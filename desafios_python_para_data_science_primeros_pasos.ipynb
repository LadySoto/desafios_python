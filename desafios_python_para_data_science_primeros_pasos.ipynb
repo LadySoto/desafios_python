{
  "nbformat": 4,
  "nbformat_minor": 0,
  "metadata": {
    "colab": {
      "provenance": [],
      "authorship_tag": "ABX9TyMblSaRBQtfkanltwrWPLw2",
      "include_colab_link": true
    },
    "kernelspec": {
      "name": "python3",
      "display_name": "Python 3"
    },
    "language_info": {
      "name": "python"
    }
  },
  "cells": [
    {
      "cell_type": "markdown",
      "metadata": {
        "id": "view-in-github",
        "colab_type": "text"
      },
      "source": [
        "<a href=\"https://colab.research.google.com/github/LadySoto/desafios_python/blob/main/desafios_python_para_data_science_primeros_pasos.ipynb\" target=\"_parent\"><img src=\"https://colab.research.google.com/assets/colab-badge.svg\" alt=\"Open In Colab\"/></a>"
      ]
    },
    {
      "cell_type": "code",
      "execution_count": null,
      "metadata": {
        "id": "K4rR46JdsRow"
      },
      "outputs": [],
      "source": []
    },
    {
      "cell_type": "markdown",
      "source": [
        "# **Desafío 1**\n",
        "\n",
        "1 - Imprime la frase \"Escuela de Datos de Alura\"."
      ],
      "metadata": {
        "id": "_rDJDkKhsTpC"
      }
    },
    {
      "cell_type": "code",
      "source": [
        "print('Escuela de Datos de Alura')"
      ],
      "metadata": {
        "colab": {
          "base_uri": "https://localhost:8080/"
        },
        "id": "MOKebxu5sd5f",
        "outputId": "6930a6c4-9a56-4107-c387-4730c6469b3d"
      },
      "execution_count": null,
      "outputs": [
        {
          "output_type": "stream",
          "name": "stdout",
          "text": [
            "Escuela de Datos de Alura\n"
          ]
        }
      ]
    },
    {
      "cell_type": "markdown",
      "source": [
        "2 - Imprime tu nombre y tu apellido siguiendo la estructura a continuación:\n",
        "\n",
        "Nombre: [tu nombre]\n",
        "Apellido: [tu apellido]"
      ],
      "metadata": {
        "id": "JZIiZ6Pisrp4"
      }
    },
    {
      "cell_type": "code",
      "source": [
        "Nombre = 'Lady'\n",
        "Apellido = 'Soto Davila'\n",
        "\n",
        "print(Nombre, Apellido)"
      ],
      "metadata": {
        "colab": {
          "base_uri": "https://localhost:8080/"
        },
        "id": "vzUW9k-DsvBd",
        "outputId": "b7910e1c-39b8-450c-d8e6-b911caa220bb"
      },
      "execution_count": null,
      "outputs": [
        {
          "output_type": "stream",
          "name": "stdout",
          "text": [
            "Lady Soto Davila\n"
          ]
        }
      ]
    },
    {
      "cell_type": "markdown",
      "source": [
        "3 - Imprime tu primer nombre letra por letra. Por ejemplo, si mi nombre es Álvaro, la salida sería:"
      ],
      "metadata": {
        "id": "OZlsen7FtiTo"
      }
    },
    {
      "cell_type": "code",
      "source": [
        "print('L')\n",
        "print('a')\n",
        "print('d')\n",
        "print('y')"
      ],
      "metadata": {
        "colab": {
          "base_uri": "https://localhost:8080/"
        },
        "id": "WI88zATltmBR",
        "outputId": "06e10104-8cbf-45de-bbd6-0cfd2d4e4089"
      },
      "execution_count": null,
      "outputs": [
        {
          "output_type": "stream",
          "name": "stdout",
          "text": [
            "L\n",
            "a\n",
            "d\n",
            "y\n"
          ]
        }
      ]
    },
    {
      "cell_type": "markdown",
      "source": [
        "4 - Imprime tu fecha de nacimiento en formato día mes año. Recuerda que los valores de día y año no deben estar entre comillas. Suponiendo una fecha de cumpleaños el 28 de febrero de 2003, el formato debe ser como el siguiente:"
      ],
      "metadata": {
        "id": "nXdcHVy_uGY_"
      }
    },
    {
      "cell_type": "code",
      "source": [
        "print(17,'Octubre',1993)"
      ],
      "metadata": {
        "colab": {
          "base_uri": "https://localhost:8080/"
        },
        "id": "qqMmO8V4uHgX",
        "outputId": "a726f692-20de-421c-c8d0-1b34263e25a9"
      },
      "execution_count": null,
      "outputs": [
        {
          "output_type": "stream",
          "name": "stdout",
          "text": [
            "17 Octubre 1993\n"
          ]
        }
      ]
    },
    {
      "cell_type": "markdown",
      "source": [
        "5 - Imprime, en una sola instrucción print, el año actual en el que estás realizando este curso. El valor del año debe ser un dato numérico, y la salida de print debe ser la siguiente:"
      ],
      "metadata": {
        "id": "-ZGK0ZDzuluY"
      }
    },
    {
      "cell_type": "code",
      "source": [
        "print('Año actual:',2025)"
      ],
      "metadata": {
        "colab": {
          "base_uri": "https://localhost:8080/"
        },
        "id": "Abbc27Xeumdq",
        "outputId": "614d6c1c-5bd0-4397-a8d4-5d38a36ff8e8"
      },
      "execution_count": null,
      "outputs": [
        {
          "output_type": "stream",
          "name": "stdout",
          "text": [
            "Año actual: 2025\n"
          ]
        }
      ]
    },
    {
      "cell_type": "markdown",
      "source": [
        "#**Desafío 2**"
      ],
      "metadata": {
        "id": "ManCXCyK8pa_"
      }
    },
    {
      "cell_type": "markdown",
      "source": [
        "1 - Crea un programa que solicite al usuario que escriba su nombre y luego imprima \"Hola, [nombre].\""
      ],
      "metadata": {
        "id": "TtT3h4wQ86E6"
      }
    },
    {
      "cell_type": "code",
      "source": [
        "nombre = input('Ingresa tu nombre:')\n",
        "print('¡Hola, {}.'.format(nombre))"
      ],
      "metadata": {
        "colab": {
          "base_uri": "https://localhost:8080/"
        },
        "id": "rvf29RMc82Fn",
        "outputId": "7b572356-9ea3-4ac1-bda1-2005fce653ca"
      },
      "execution_count": null,
      "outputs": [
        {
          "output_type": "stream",
          "name": "stdout",
          "text": [
            "Ingresa tu nombre:Lady Soto\n",
            "¡Hola, Lady Soto.\n"
          ]
        }
      ]
    },
    {
      "cell_type": "markdown",
      "source": [
        "2 - Crea un programa que solicite al usuario que escriba su nombre y edad, y luego imprima \"Hola, [nombre], tienes [edad] años.\""
      ],
      "metadata": {
        "id": "8e7LMOX29v9H"
      }
    },
    {
      "cell_type": "code",
      "source": [
        "nombre_pto2 = input('Ingresa tu nombre:')\n",
        "edad = input('Ingresa tu edad:')\n",
        "print('Hola, {}, tienes {} años'.format(nombre_pto2,edad))"
      ],
      "metadata": {
        "colab": {
          "base_uri": "https://localhost:8080/"
        },
        "id": "45c8_bmm90pw",
        "outputId": "2863235f-2631-4d48-cbb4-1dbea8876ee7"
      },
      "execution_count": null,
      "outputs": [
        {
          "output_type": "stream",
          "name": "stdout",
          "text": [
            "Ingresa tu nombre:Lady\n",
            "Ingresa tu edad:31\n",
            "Hola, Lady, tienes 31 años\n"
          ]
        }
      ]
    },
    {
      "cell_type": "markdown",
      "source": [
        "3 - Crea un programa que solicite al usuario que escriba su nombre, edad y altura en metros, y luego imprima \"Hola, [nombre], tienes [edad] años y mides [altura] metros.\""
      ],
      "metadata": {
        "id": "-u5JsSW6-_CS"
      }
    },
    {
      "cell_type": "code",
      "source": [
        "nombre_pto3 = input('Ingresa tu nombre:')\n",
        "edad_pto3 = input('Ingresa tu edad:')\n",
        "altura = input('Ingresa tu estatura:')\n",
        "print('Hola, {}, tienes {} años y mides {} metros'.format(nombre_pto2,edad_pto3,altura))"
      ],
      "metadata": {
        "colab": {
          "base_uri": "https://localhost:8080/"
        },
        "id": "V8cC_vHB_EiH",
        "outputId": "7fe11493-8f73-493c-a321-bb637a11cc8b"
      },
      "execution_count": null,
      "outputs": [
        {
          "output_type": "stream",
          "name": "stdout",
          "text": [
            "Ingresa tu nombre:Lina\n",
            "Ingresa tu edad:54\n",
            "Ingresa tu estatura:1.62\n",
            "Hola, Lady, tienes 54 años y mides 1.62 metros\n"
          ]
        }
      ]
    },
    {
      "cell_type": "markdown",
      "source": [
        "###**Calculadora con operadores**\n",
        "\n",
        "4 - Crea un programa que solicite dos valores numéricos al usuario y luego imprima la suma de ambos valores."
      ],
      "metadata": {
        "id": "dqORbWT6_nrQ"
      }
    },
    {
      "cell_type": "code",
      "source": [
        "num1 = int(input('Ingresa un número:'))\n",
        "num2 = int(input('Ingresa otro número:'))\n",
        "print(num1 + num2)"
      ],
      "metadata": {
        "colab": {
          "base_uri": "https://localhost:8080/"
        },
        "id": "5nRsosLA_zF_",
        "outputId": "7a915920-a27f-4799-e51f-8a607a1807a4"
      },
      "execution_count": null,
      "outputs": [
        {
          "output_type": "stream",
          "name": "stdout",
          "text": [
            "Ingresa un número:7\n",
            "Ingresa otro número:8\n",
            "15\n"
          ]
        }
      ]
    },
    {
      "cell_type": "markdown",
      "source": [
        "5 - Crea un programa que solicite tres valores numéricos al usuario y luego imprima la suma de los tres valores."
      ],
      "metadata": {
        "id": "RDt7VQ8qANWB"
      }
    },
    {
      "cell_type": "code",
      "source": [
        "num_1 = int(input('Ingresa un número:'))\n",
        "num_2 = int(input('Ingresa otro número:'))\n",
        "num_3 = int(input('Ingresa otro número:'))\n",
        "suma_de3 = num_1 + num_2 + num_3\n",
        "print(suma_de3)"
      ],
      "metadata": {
        "colab": {
          "base_uri": "https://localhost:8080/"
        },
        "id": "vUw6FEnQAOCd",
        "outputId": "44dde841-7d5c-4d60-86b2-70cfc1b9b6ea"
      },
      "execution_count": null,
      "outputs": [
        {
          "output_type": "stream",
          "name": "stdout",
          "text": [
            "Ingresa un número:4\n",
            "Ingresa otro número:3\n",
            "Ingresa otro número:3\n",
            "10\n"
          ]
        }
      ]
    },
    {
      "cell_type": "markdown",
      "source": [
        "6 - Crea un programa que solicite dos valores numéricos al usuario y luego imprima la resta del primero menos el segundo valor."
      ],
      "metadata": {
        "id": "DWWB1J_lAtB-"
      }
    },
    {
      "cell_type": "code",
      "source": [
        "n1 = int(input('Ingresa un número:'))\n",
        "n2 = int(input('Ingresa otro número:'))\n",
        "resta_pto6 = n1 - n2\n",
        "print(resta_pto6)"
      ],
      "metadata": {
        "colab": {
          "base_uri": "https://localhost:8080/"
        },
        "id": "UPWAwQ8tA5zV",
        "outputId": "79442160-c985-4e81-b57b-95c0ac350779"
      },
      "execution_count": null,
      "outputs": [
        {
          "output_type": "stream",
          "name": "stdout",
          "text": [
            "Ingresa un número:10\n",
            "Ingresa otro número:9\n",
            "1\n"
          ]
        }
      ]
    },
    {
      "cell_type": "markdown",
      "source": [
        "7 - Crea un programa que solicite dos valores numéricos al usuario y luego imprima la multiplicación de los dos valores."
      ],
      "metadata": {
        "id": "GPUDnxd4BNWe"
      }
    },
    {
      "cell_type": "code",
      "source": [
        "nm1 = int(input('Ingresa un número:'))\n",
        "nm2 = int(input('Ingresa otro número:'))\n",
        "multiplicacion = nm1 * nm2\n",
        "print(multiplicacion)"
      ],
      "metadata": {
        "colab": {
          "base_uri": "https://localhost:8080/"
        },
        "id": "bK9vl1RgBRLt",
        "outputId": "090dd559-09dc-4495-9f7b-6a22c7a0f71f"
      },
      "execution_count": null,
      "outputs": [
        {
          "output_type": "stream",
          "name": "stdout",
          "text": [
            "Ingresa un número:2\n",
            "Ingresa otro número:6\n",
            "12\n"
          ]
        }
      ]
    },
    {
      "cell_type": "markdown",
      "source": [
        "8 - Crea un programa que solicite dos valores numéricos, un numerador y un denominador, y realice la división entre los dos valores. Asegúrate de que el valor del denominador no sea igual a 0."
      ],
      "metadata": {
        "id": "iuLbcntYCdEf"
      }
    },
    {
      "cell_type": "code",
      "source": [
        "numerador = int(input('Ingresa un número:'))\n",
        "denominador = int(input('Ingresa otro número, diferente de 0:'))\n",
        "print(numerador/denominador)"
      ],
      "metadata": {
        "colab": {
          "base_uri": "https://localhost:8080/"
        },
        "id": "H-MS-YwZCmol",
        "outputId": "77fecacc-7f9f-47ba-94c7-f0e6c5971383"
      },
      "execution_count": null,
      "outputs": [
        {
          "output_type": "stream",
          "name": "stdout",
          "text": [
            "Ingresa un número:6\n",
            "Ingresa otro número, diferente de 0:2\n",
            "3.0\n"
          ]
        }
      ]
    },
    {
      "cell_type": "markdown",
      "source": [
        "9 - Crea un programa que solicite dos valores numéricos, un operador y una potencia, y realice la exponenciación entre estos dos valores."
      ],
      "metadata": {
        "id": "tQwopXilDPwB"
      }
    },
    {
      "cell_type": "code",
      "source": [
        "operador = int(input('Ingresa un número:'))\n",
        "potencia = int(input('Ingresa otro número:'))\n",
        "print(operador**potencia)"
      ],
      "metadata": {
        "colab": {
          "base_uri": "https://localhost:8080/"
        },
        "id": "f7YnF1gXDT01",
        "outputId": "2f38600b-b649-4126-b9e2-0721decab532"
      },
      "execution_count": null,
      "outputs": [
        {
          "output_type": "stream",
          "name": "stdout",
          "text": [
            "Ingresa un número:2\n",
            "Ingresa otro número:3\n",
            "8\n"
          ]
        }
      ]
    },
    {
      "cell_type": "markdown",
      "source": [
        "10 - Crea un código que solicite las 3 notas de un estudiante e imprima el promedio de las notas."
      ],
      "metadata": {
        "id": "ZgFBZ-2YD-Hz"
      }
    },
    {
      "cell_type": "code",
      "source": [
        "nota1 = float(input('Ingresa la nota 1:'))\n",
        "nota2 = float(input('Ingresa la nota 2:'))\n",
        "nota3 = float(input('Ingresa la nota 3:'))\n",
        "promedio = (nota1 + nota2 + nota3)/3\n",
        "print('%.2f'%(promedio))"
      ],
      "metadata": {
        "colab": {
          "base_uri": "https://localhost:8080/"
        },
        "id": "tjkthQNDETwd",
        "outputId": "8a5a632d-36f5-422d-9d2a-f11eeb194814"
      },
      "execution_count": null,
      "outputs": [
        {
          "output_type": "stream",
          "name": "stdout",
          "text": [
            "Ingresa la nota 1:4.3\n",
            "Ingresa la nota 2:5\n",
            "Ingresa la nota 3:3.6\n",
            "4.30\n"
          ]
        }
      ]
    },
    {
      "cell_type": "markdown",
      "source": [
        "11 - Crea un código que calcule e imprima el promedio ponderado de los números 5, 12, 20 y 15 con pesos respectivamente iguales a 1, 2, 3 y 4.\n",
        "\n",
        "Promedio_ponderado= ∑(valor * peso) / ∑pesos\n",
        "\n"
      ],
      "metadata": {
        "id": "9xRUsT29Gspj"
      }
    },
    {
      "cell_type": "code",
      "source": [
        "nro1 = 5\n",
        "p1 = 1\n",
        "\n",
        "nro2 = 12\n",
        "p2 = 2\n",
        "\n",
        "nro3 = 20\n",
        "p3 = 3\n",
        "\n",
        "nro4 = 15\n",
        "p4 = 4\n",
        "\n",
        "promedio_ponderado = (nro1 * p1 + nro2 * p2 + nro3 * p3 + nro4 * p4)/(nro1 + nro2 + nro3 + nro4)\n",
        "\n",
        "print('%.2f'%(promedio_ponderado))"
      ],
      "metadata": {
        "colab": {
          "base_uri": "https://localhost:8080/"
        },
        "id": "uJSgD-FcHO79",
        "outputId": "8884b479-5909-48fa-f03a-9917ee490907"
      },
      "execution_count": null,
      "outputs": [
        {
          "output_type": "stream",
          "name": "stdout",
          "text": [
            "2.87\n"
          ]
        }
      ]
    },
    {
      "cell_type": "markdown",
      "source": [
        "###**Editando textos**"
      ],
      "metadata": {
        "id": "G7aJYHG-JKFi"
      }
    },
    {
      "cell_type": "markdown",
      "source": [
        "12 - Crea una variable llamada \"frase\" y asígnale una cadena de texto de tu elección. Luego, imprime la frase en pantalla."
      ],
      "metadata": {
        "id": "U6FH77FsJOLO"
      }
    },
    {
      "cell_type": "code",
      "source": [
        "frase = 'Estoy estudiando Python'\n",
        "print(frase)"
      ],
      "metadata": {
        "colab": {
          "base_uri": "https://localhost:8080/"
        },
        "id": "65ZB9Ua_JVKM",
        "outputId": "1f09dba1-1edc-4c40-bb49-5aeb0d2fc452"
      },
      "execution_count": null,
      "outputs": [
        {
          "output_type": "stream",
          "name": "stdout",
          "text": [
            "Estoy estudiando Python\n"
          ]
        }
      ]
    },
    {
      "cell_type": "markdown",
      "source": [
        "13 - Crea un código que solicite una frase y luego imprima la frase en pantalla."
      ],
      "metadata": {
        "id": "R8FIh9IcJgbz"
      }
    },
    {
      "cell_type": "code",
      "source": [
        "frase_pto13 = input('Ingresa tu frase:')\n",
        "print(frase_pto13)"
      ],
      "metadata": {
        "colab": {
          "base_uri": "https://localhost:8080/"
        },
        "id": "_eOkAsagJlJd",
        "outputId": "b99c5f3a-ef84-493b-d313-d12b19b5948b"
      },
      "execution_count": null,
      "outputs": [
        {
          "output_type": "stream",
          "name": "stdout",
          "text": [
            "Ingresa tu frase:Me encanta estudiar\n",
            "Me encanta estudiar\n"
          ]
        }
      ]
    },
    {
      "cell_type": "markdown",
      "source": [
        "14 - Crea un código que solicite una frase al usuario y luego imprima la misma frase ingresada pero en mayúsculas."
      ],
      "metadata": {
        "id": "vZtJNT_hJ6o1"
      }
    },
    {
      "cell_type": "code",
      "source": [
        "frase_pto14 = input('Ingresa tu frase: ')\n",
        "print(frase_pto14.upper())"
      ],
      "metadata": {
        "colab": {
          "base_uri": "https://localhost:8080/"
        },
        "id": "vBmWvRV4J-6s",
        "outputId": "e1b55ab0-d14b-4bb0-bc02-d846d56d726c"
      },
      "execution_count": null,
      "outputs": [
        {
          "output_type": "stream",
          "name": "stdout",
          "text": [
            "Ingresa tu frase: ¿cómo estás?\n",
            "¿CÓMO ESTÁS?\n"
          ]
        }
      ]
    },
    {
      "cell_type": "markdown",
      "source": [
        "15 - Crea un código que solicite una frase al usuario y luego imprima la misma frase ingresada pero en minúsculas."
      ],
      "metadata": {
        "id": "1ILYWxKrLb87"
      }
    },
    {
      "cell_type": "code",
      "source": [
        "frase_pto15 = input('Ingresa tu frase: ')\n",
        "print(frase_pto15.lower())"
      ],
      "metadata": {
        "colab": {
          "base_uri": "https://localhost:8080/"
        },
        "id": "UmNd7DHCLyU1",
        "outputId": "439fb0ce-937d-41da-998f-19cefca74365"
      },
      "execution_count": null,
      "outputs": [
        {
          "output_type": "stream",
          "name": "stdout",
          "text": [
            "Ingresa tu frase: ES MUY bueno verte \n",
            "es muy bueno verte \n"
          ]
        }
      ]
    },
    {
      "cell_type": "markdown",
      "source": [
        "16 - Crea una variable llamada \"frase\" y asígnale una cadena de texto de tu elección. Luego, imprime la frase sin espacios en blanco al principio y al final."
      ],
      "metadata": {
        "id": "qVBiNEahMPA9"
      }
    },
    {
      "cell_type": "code",
      "source": [
        "frase_pto16 = input('Ingresa tu frase: ')\n",
        "print(frase_pto16.strip())"
      ],
      "metadata": {
        "colab": {
          "base_uri": "https://localhost:8080/"
        },
        "id": "Up4qvkNQMWgO",
        "outputId": "046caad7-585f-4b03-f1b3-9be1cc276f57"
      },
      "execution_count": null,
      "outputs": [
        {
          "output_type": "stream",
          "name": "stdout",
          "text": [
            "Ingresa tu frase:      ¡Hola!   \n",
            "¡Hola!\n"
          ]
        }
      ]
    },
    {
      "cell_type": "markdown",
      "source": [
        "17 - Crea un código que solicite una frase al usuario y luego imprima la misma frase sin espacios en blanco al principio y al final, además de convertirla a minúsculas."
      ],
      "metadata": {
        "id": "Bgdj42tiN60b"
      }
    },
    {
      "cell_type": "code",
      "source": [
        "frase_pto17 = input('Ingresa tu frase:')\n",
        "print(frase_pto17.strip().lower())"
      ],
      "metadata": {
        "colab": {
          "base_uri": "https://localhost:8080/"
        },
        "id": "50Iu60yON8gV",
        "outputId": "c5cfcb60-56fc-4ba0-cb44-6d57ac6073e1"
      },
      "execution_count": null,
      "outputs": [
        {
          "output_type": "stream",
          "name": "stdout",
          "text": [
            "Ingresa tu frase:   ¿Cómo vas?  \n",
            "¿cómo vas?\n"
          ]
        }
      ]
    },
    {
      "cell_type": "markdown",
      "source": [
        "18 - Crea un código que solicite una frase al usuario y luego imprima la misma frase con todas las vocales \"e\" reemplazadas por la letra \"f\"."
      ],
      "metadata": {
        "id": "aouNuL1NOZED"
      }
    },
    {
      "cell_type": "code",
      "source": [
        "frase_pto18 = input('Ingresa tu frase:')\n",
        "print(frase_pto18.replace('e','f'))"
      ],
      "metadata": {
        "colab": {
          "base_uri": "https://localhost:8080/"
        },
        "id": "tVltaLfeOaaP",
        "outputId": "00c94706-c84a-49e9-bb27-dbe52f7dd5ae"
      },
      "execution_count": null,
      "outputs": [
        {
          "output_type": "stream",
          "name": "stdout",
          "text": [
            "Ingresa tu frase:Hola, quería saludarte\n",
            "Hola, qufría saludartf\n"
          ]
        }
      ]
    },
    {
      "cell_type": "markdown",
      "source": [
        "# **Desafío 3**\n",
        "\n",
        "\n",
        "###**Entrenando la programación**\n",
        "\n",
        "\n",
        "\n",
        "1 - Escribe un programa que pida a la persona usuaria que proporcione dos números y muestre el número más grande."
      ],
      "metadata": {
        "id": "dhP3VKDSeSwf"
      }
    },
    {
      "cell_type": "code",
      "source": [
        "per_num1 = int(input('Ingresa el primero número: '))\n",
        "per_num2 = int(input('Ingresa el segundo número: '))\n",
        "\n",
        "if per_num1 > per_num2:\n",
        "  print(per_num1)\n",
        "else:\n",
        "  print(per_num2)"
      ],
      "metadata": {
        "colab": {
          "base_uri": "https://localhost:8080/"
        },
        "id": "y3cOfacselXw",
        "outputId": "93f9ff5e-c108-40f4-f6f8-e4c0855b81d3"
      },
      "execution_count": null,
      "outputs": [
        {
          "output_type": "stream",
          "name": "stdout",
          "text": [
            "Ingresa el primero número: 5\n",
            "Ingresa el segundo número: 3\n",
            "5\n"
          ]
        }
      ]
    },
    {
      "cell_type": "markdown",
      "source": [
        "2 - Escribe un programa que solicite el porcentaje de crecimiento de producción de una empresa e informe si hubo un crecimiento (porcentaje positivo) o una disminución (porcentaje negativo)."
      ],
      "metadata": {
        "id": "gIhoPGNCfrmk"
      }
    },
    {
      "cell_type": "code",
      "source": [
        "porcentaje_crecimiento = float(input('Ingresa el valor del procentaje de crecimiento: '))\n",
        "\n",
        "if porcentaje_crecimiento > 0:\n",
        "  print('Hubo un crecimiento del %s%%'%(porcentaje_crecimiento))\n",
        "else:\n",
        "  print('Hubo una disminución del %s%%'%(porcentaje_crecimiento))"
      ],
      "metadata": {
        "colab": {
          "base_uri": "https://localhost:8080/"
        },
        "id": "2J00NBF7ftwk",
        "outputId": "3a5c9c86-de5e-480f-c362-35e902384ba3"
      },
      "execution_count": null,
      "outputs": [
        {
          "output_type": "stream",
          "name": "stdout",
          "text": [
            "Ingresa el valor del procentaje de crecimiento: -92\n",
            "Hubo una disminución del -92.0%\n"
          ]
        }
      ]
    },
    {
      "cell_type": "markdown",
      "source": [
        "3 - Escribe un programa que determine si una letra proporcionada por la persona usuaria es una vocal o una consonante."
      ],
      "metadata": {
        "id": "dHH_H_tJz6RN"
      }
    },
    {
      "cell_type": "code",
      "source": [
        "letra = input('Ingresa una letra: ')\n",
        "vocales = ['a','e','i','o','u']\n",
        "\n",
        "if letra in vocales:\n",
        "  print('Vocal')\n",
        "else:\n",
        "  print('Consonante')"
      ],
      "metadata": {
        "colab": {
          "base_uri": "https://localhost:8080/"
        },
        "id": "JXGEbHXQ26Jo",
        "outputId": "bd35b4b4-7919-4622-f3f9-44f9524f7f6d"
      },
      "execution_count": null,
      "outputs": [
        {
          "output_type": "stream",
          "name": "stdout",
          "text": [
            "Ingresa una letra: 12\n",
            "Consonante\n"
          ]
        }
      ]
    },
    {
      "cell_type": "markdown",
      "source": [
        "4 - Escribe un programa que lea valores promedio de precios de un modelo de automóvil durante 3 años consecutivos y muestre el valor más alto y más bajo entre esos tres años."
      ],
      "metadata": {
        "id": "2iRAwzqX6Ysk"
      }
    },
    {
      "cell_type": "code",
      "source": [
        "precios_automovil = [1000,5000,2000,500,18000,6]\n",
        "\n",
        "precio_minimo = min(precios_automovil)\n",
        "precio_maximo = max(precios_automovil)\n",
        "\n",
        "print(f'El precio más bajo ha sido: {precio_minimo}')\n",
        "print(f'El precio más alto ha sido: {precio_maximo}')\n",
        "\n"
      ],
      "metadata": {
        "colab": {
          "base_uri": "https://localhost:8080/"
        },
        "id": "5-jDoFpe6bVB",
        "outputId": "c70409ab-c774-4fcf-80ec-c9fbaa00fb0e"
      },
      "execution_count": null,
      "outputs": [
        {
          "output_type": "stream",
          "name": "stdout",
          "text": [
            "El precio más bajo ha sido: 6\n",
            "El precio más alto ha sido: 18000\n"
          ]
        }
      ]
    },
    {
      "cell_type": "markdown",
      "source": [
        "5 - Escribe un programa que pregunte sobre el precio de tres productos e indique cuál es el producto más barato para comprar."
      ],
      "metadata": {
        "id": "L_G0ca1n_rb2"
      }
    },
    {
      "cell_type": "code",
      "source": [
        "precio_producto1 = float(input('Ingresa el valor del primer producto: '))\n",
        "precio_producto2 = float(input('Ingresa el valor del segundo producto: '))\n",
        "precio_producto3 = float(input('Ingresa el valor del tercero producto: '))\n",
        "\n",
        "precio_productos = [precio_producto1,precio_producto2, precio_producto3]\n",
        "menor_precio = min(precio_productos)\n",
        "\n",
        "print(f'El producto más barato, es el que posee el valor de: ${menor_precio}')"
      ],
      "metadata": {
        "colab": {
          "base_uri": "https://localhost:8080/"
        },
        "id": "MGjswwge_u7U",
        "outputId": "5334c401-f195-4316-d8ae-2257e8bbc37a"
      },
      "execution_count": null,
      "outputs": [
        {
          "output_type": "stream",
          "name": "stdout",
          "text": [
            "Ingresa el valor del primer producto: 800\n",
            "Ingresa el valor del segundo producto: 63\n",
            "Ingresa el valor del tercero producto: 7520\n",
            "El producto más barato, es el que posee el valor de: $63.0\n"
          ]
        }
      ]
    },
    {
      "cell_type": "markdown",
      "source": [
        "6 - Escribe un programa que lea tres números y los muestre en orden descendente."
      ],
      "metadata": {
        "id": "oEe6MQBLA_4i"
      }
    },
    {
      "cell_type": "code",
      "source": [
        "digito1 = int(input('Ingresa un número'))\n",
        "digito2 = int(input('Ingresa otro número'))\n",
        "digito3 = int(input('Ingresa otro número'))\n",
        "\n",
        "digitos = [digito1,digito2,digito3]\n",
        "digitos.sort(reverse = True)\n",
        "\n",
        "print(digitos)"
      ],
      "metadata": {
        "colab": {
          "base_uri": "https://localhost:8080/"
        },
        "id": "RuKsufuUBRoE",
        "outputId": "ce668fd6-f29e-4c4d-e8e3-f1c7bb50405d"
      },
      "execution_count": null,
      "outputs": [
        {
          "output_type": "stream",
          "name": "stdout",
          "text": [
            "Ingresa un número3\n",
            "Ingresa otro número88\n",
            "Ingresa otro número108\n",
            "[108, 88, 3]\n"
          ]
        }
      ]
    },
    {
      "cell_type": "markdown",
      "source": [
        "7 -Escribe un programa que pregunte en qué turno estudia la persona usuaria (\"mañana\", \"tarde\" o \"noche\") y muestre el mensaje \"¡Buenos Días!\", \"¡Buenas Tardes!\", \"¡Buenas Noches!\" o \"Valor Inválido!\", según el caso."
      ],
      "metadata": {
        "id": "MXhElrcAB3se"
      }
    },
    {
      "cell_type": "code",
      "source": [
        "turno = input('Ingresa el turno en que trabajas: ')\n",
        "turno = turno.lower()\n",
        "\n",
        "if turno == 'mañana':\n",
        "  print('¡Buenos Días!')\n",
        "elif turno == 'tarde':\n",
        "  print('¡Buenas Tardes!')\n",
        "elif turno == 'noche':\n",
        "  print('¡Buenas Noches!')\n",
        "else:\n",
        "  print('Valor Inválido')"
      ],
      "metadata": {
        "colab": {
          "base_uri": "https://localhost:8080/"
        },
        "id": "lG0c7iblB9KM",
        "outputId": "9adba9d2-2c78-480b-91f9-05c2d02b6ec9"
      },
      "execution_count": null,
      "outputs": [
        {
          "output_type": "stream",
          "name": "stdout",
          "text": [
            "Ingresa el turno en que trabajas: 45\n",
            "Valor Inválido\n"
          ]
        }
      ]
    },
    {
      "cell_type": "markdown",
      "source": [
        "8 - Escribe un programa que solicite un número entero a la persona usuaria y determine si es par o impar. Pista: Puedes usar el operador módulo (%)."
      ],
      "metadata": {
        "id": "mrqZIGAPDnnP"
      }
    },
    {
      "cell_type": "code",
      "source": [
        "numero_persona = int(input('Ingresa un número entero: '))\n",
        "\n",
        "if numero_persona % 2 == 0:\n",
        "  print('El número es par')\n",
        "else:\n",
        "  print('El numero es impar')"
      ],
      "metadata": {
        "colab": {
          "base_uri": "https://localhost:8080/"
        },
        "id": "LXee51BSDpud",
        "outputId": "bb451175-450e-4c8f-a701-71265c5748fe"
      },
      "execution_count": null,
      "outputs": [
        {
          "output_type": "stream",
          "name": "stdout",
          "text": [
            "Ingresa un número entero: 1\n",
            "El numero es impar\n"
          ]
        }
      ]
    },
    {
      "cell_type": "markdown",
      "source": [
        "9 - Escribe un programa que pida un número a la persona usuaria y le informe si es entero o decimal."
      ],
      "metadata": {
        "id": "i1KKPYSJFL2Z"
      }
    },
    {
      "cell_type": "code",
      "source": [
        "numero_ingresado = float(input('Ingresa un número: '))\n",
        "\n",
        "if numero_ingresado.is_integer():\n",
        "  print('El número es entero')\n",
        "else:\n",
        "  print('El número es decimal')"
      ],
      "metadata": {
        "colab": {
          "base_uri": "https://localhost:8080/"
        },
        "id": "llwTWplpERO2",
        "outputId": "47c10c87-8ecb-4e48-c6bc-8d78578dbf56"
      },
      "execution_count": null,
      "outputs": [
        {
          "output_type": "stream",
          "name": "stdout",
          "text": [
            "Ingresa un número: 45.12\n",
            "El número es decimal\n"
          ]
        }
      ]
    },
    {
      "cell_type": "markdown",
      "source": [
        "###**Momento de los proyectos**\n",
        "\n",
        "10 - Un programa debe ser escrito para leer dos números y luego preguntar a la persona usuaria qué operación desea realizar. El resultado de la operación debe incluir información sobre el número, si es par o impar, positivo o negativo, e entero o decimal."
      ],
      "metadata": {
        "id": "t2ja3_QjGiGg"
      }
    },
    {
      "cell_type": "code",
      "source": [
        "nm1 = float(input('Ingresa el primer valor: '))\n",
        "nm2 = float(input('Ingresa el segundo valor: '))\n",
        "\n",
        "operacion = input('Elige el símbolo de la operación que deseas: +,-,*,/')\n",
        "\n",
        "valor_operacion = 0\n",
        "tipo_operacion = ' '\n",
        "par_impar = ' '\n",
        "post_negv = ' '\n",
        "entero_decimal = ' '\n",
        "\n",
        "#Detecta la operación y la realiza\n",
        "\n",
        "if operacion == '+':\n",
        "  valor_operacion = nm1 + nm2\n",
        "  tipo_operacion = 'Suma'\n",
        "elif operacion == '-':\n",
        "  valor_operacion = nm1 - nm2\n",
        "  tipo_operacion = 'Resta'\n",
        "elif operacion == '*':\n",
        "  valor_operacion = nm1 * nm2\n",
        "  tipo_operacion = 'Multiplicación'\n",
        "elif operacion == '/':\n",
        "  valor_operacion = nm1 / nm2\n",
        "  tipo_operacion = 'División'\n",
        "\n",
        "#Determina si el valor de la operación da un número Par o Impar\n",
        "\n",
        "if valor_operacion % 2 == 0:\n",
        "  par_impar = 'Par'\n",
        "else:\n",
        "  par_impar = 'Impar'\n",
        "\n",
        "#Determina si el valor de la operación da un número Positivo o Negativo\n",
        "\n",
        "if valor_operacion >= 0:\n",
        "  post_negv = 'Positivo'\n",
        "else:\n",
        "  post_negv = 'Negativo'\n",
        "\n",
        "#Determina si el valor de la operación da un número Entero o Decimal\n",
        "\n",
        "if valor_operacion.is_integer():\n",
        "  entero_decimal = 'Entero'\n",
        "else:\n",
        "  entero_decimal = 'Decimal'\n",
        "\n",
        "print(f'La operación elegida fue: {tipo_operacion}, su resultado fue: {valor_operacion}, este número es: {par_impar}, {post_negv} y {entero_decimal}')"
      ],
      "metadata": {
        "colab": {
          "base_uri": "https://localhost:8080/"
        },
        "id": "KcGOOHqyGVGP",
        "outputId": "a55a740a-8363-41fe-c478-360768b2cacd"
      },
      "execution_count": null,
      "outputs": [
        {
          "output_type": "stream",
          "name": "stdout",
          "text": [
            "Ingresa el primer valor: 0\n",
            "Ingresa el segundo valor: 6\n",
            "Elige el símbolo de la operación que deseas: +,-,*,/-\n",
            "La operación elegida fue: Resta, su resultado fue: -6.0, este número es: Par, Negativo y Entero\n"
          ]
        }
      ]
    },
    {
      "cell_type": "markdown",
      "source": [
        "11 - Escribe un programa que pida a la persona usuaria tres números que representan los lados de un triángulo. El programa debe informar si los valores pueden utilizarse para formar un triángulo y, en caso afirmativo, si es equilátero, isósceles o escaleno.\n",
        "\n",
        "Ten en cuenta algunas sugerencias:\n",
        "\n",
        "Tres lados forman un triángulo cuando La suma de las longitudes de cualquier par de lados debe ser mayor que el tercer lado.;\n",
        "Triángulo Equilátero: tres lados iguales;\n",
        "Triángulo Isósceles: dos lados iguales;\n",
        "Triángulo Escaleno: tres lados diferentes."
      ],
      "metadata": {
        "id": "kopSWxmzL7B6"
      }
    },
    {
      "cell_type": "code",
      "source": [
        "lado1 = float(input('Ingresa el primer valor'))\n",
        "lado2 = float(input('Ingresa el segundo valor'))\n",
        "lado3 = float(input('Ingresa el tercero valor'))\n",
        "\n",
        "triangulo = True\n",
        "\n",
        "#1. Se verifica si los valores permiten formar un triángulo\n",
        "\n",
        "if (lado1 + lado2 > lado3) and (lado1 + lado3 > lado2) and (lado2 + lado3 > lado1):\n",
        "    triangulo = True\n",
        "else:\n",
        "    triangulo = False\n",
        "\n",
        "#2. Determinar el tipo de triángulo\n",
        "\n",
        "if triangulo == True:\n",
        "  if (lado1 == lado2) and (lado2 == lado3):\n",
        "    print('Es un Tríangulo Equilátero')\n",
        "  elif (((lado1 == lado2) and (lado2 != lado3)) or ((lado1 != lado2) and (lado2 == lado3))):\n",
        "     print('Es un Tríangulo Isósceles')\n",
        "  elif (lado1 != lado2) and (lado2 != lado3):\n",
        "    print('Es un Tríangulo Escaleno')\n",
        "else:\n",
        "  print('Los valores ingresados no permiten formar un triángulo')\n",
        "\n"
      ],
      "metadata": {
        "id": "OvO_eOG_Iza4",
        "colab": {
          "base_uri": "https://localhost:8080/"
        },
        "outputId": "4ffb4ee5-46d1-41bf-f9a6-68e7f03e8a97"
      },
      "execution_count": null,
      "outputs": [
        {
          "output_type": "stream",
          "name": "stdout",
          "text": [
            "Ingresa el primer valor3\n",
            "Ingresa el segundo valor9\n",
            "Ingresa el tercero valor0\n",
            "Los valores ingresados no permiten formar un triángulo\n"
          ]
        }
      ]
    },
    {
      "cell_type": "markdown",
      "source": [
        "12 - Un establecimiento está vendiendo combustibles con descuentos variables. Para el **etanol,** si la cantidad comprada es de **hasta 15 litros**, el descuento será del **2% por litro**. En caso contrario, será del **4% por litro**. Para el **diésel,** si la cantidad comprada es de **hasta 15 litros**, el descuento será del **3% por litro**. En caso contrario, será del **5% por litro**.\n",
        "\n",
        "El precio **por litro de diésel es de R$ 2,00** y el precio **por litro de etanol es de R$ 1,70**.\n",
        "\n",
        "Escribe un programa que lea la cantidad de litros vendidos y el tipo de combustible (E para etanol y D para diésel) y calcule el valor a pagar por el cliente. Ten en cuenta algunas sugerencias:\n",
        "\n",
        "\n",
        "El valor del descuento será el producto del precio por litro, la cantidad de litros y el valor del descuento.\n",
        "El valor a pagar por un cliente será el resultado de la multiplicación del precio por litro por la cantidad de litros menos el valor del descuento resultante del cálculo."
      ],
      "metadata": {
        "id": "7SSbC4D-KdCt"
      }
    },
    {
      "cell_type": "markdown",
      "source": [],
      "metadata": {
        "id": "1zaVhRE1GSM3"
      }
    },
    {
      "cell_type": "code",
      "source": [
        "#Creo las Variables que usaré:\n",
        "\n",
        "tipo_combustible = ''\n",
        "cantidad_combustible = ''\n",
        "valor_a_pagar = 0\n",
        "combustible = ''\n",
        "\n",
        "\n",
        "#Solicito el combustible y valido si es una opción válida:\n",
        "\n",
        "tipo_combustible = input('Ingresa E para Etanol ó D para Diésel: ').upper()\n",
        "\n",
        "if tipo_combustible == 'E' or tipo_combustible == 'D':\n",
        "\n",
        "  cantidad_combustible = float(input('Ingesa la cantidad de combustible: '))\n",
        "\n",
        "  #Calculo el precio a pagar dependiendo del tipo de combustible y la cantidad del mismo:\n",
        "\n",
        "  if cantidad_combustible <= 0:\n",
        "\n",
        "    print('Cantidad inválida, debe ser mayor a 0 Litros')\n",
        "\n",
        "  elif tipo_combustible == 'E':\n",
        "\n",
        "    combustible = 'Etanol'\n",
        "\n",
        "    if cantidad_combustible <= 15 and cantidad_combustible > 0:\n",
        "\n",
        "      valor_sin_descuento = cantidad_combustible * 1.70\n",
        "      valor_a_pagar = valor_sin_descuento - (valor_sin_descuento * 0.02)\n",
        "\n",
        "    elif cantidad_combustible > 15:\n",
        "\n",
        "      valor_sin_descuento = cantidad_combustible * 1.70\n",
        "      valor_a_pagar = valor_sin_descuento - (valor_sin_descuento * 0.04)\n",
        "\n",
        "    print(f'El total a pagar es de ${valor_a_pagar:.2f} de {combustible}')\n",
        "\n",
        "  elif tipo_combustible == 'D':\n",
        "\n",
        "    combustible = 'Diésel'\n",
        "\n",
        "    if cantidad_combustible <= 15 and cantidad_combustible > 0:\n",
        "\n",
        "      valor_sin_descuento = cantidad_combustible * 2\n",
        "      valor_a_pagar = valor_sin_descuento - (valor_sin_descuento * 0.03)\n",
        "\n",
        "    elif cantidad_combustible > 15:\n",
        "\n",
        "      valor_sin_descuento = cantidad_combustible * 2\n",
        "      valor_a_pagar = valor_sin_descuento - (valor_sin_descuento * 0.05)\n",
        "\n",
        "    print(f'El total a pagar es de ${valor_a_pagar:.2f} de {combustible}')\n",
        "\n",
        "else:\n",
        "  print('Opción inválida, ingrese E para Etanol ó D para Diésel')\n"
      ],
      "metadata": {
        "colab": {
          "base_uri": "https://localhost:8080/"
        },
        "id": "1-nZfXWqLkqL",
        "outputId": "1793540f-efc0-4252-c890-af6664894d2e"
      },
      "execution_count": null,
      "outputs": [
        {
          "output_type": "stream",
          "name": "stdout",
          "text": [
            "Ingresa E para Etanol ó D para Diésel: E\n",
            "Ingesa la cantidad de combustible: .23\n",
            "El total a pagar es de $0.38 de Etanol\n"
          ]
        }
      ]
    },
    {
      "cell_type": "markdown",
      "source": [],
      "metadata": {
        "id": "qg1p4zz2jJk4"
      }
    },
    {
      "cell_type": "markdown",
      "source": [
        "13 - En una empresa de venta de bienes raíces, debes crear un código que analice los datos de ventas anuales para ayudar a la dirección en la toma de decisiones. El código debe recopilar los datos de cantidad de ventas durante los años 2022 y 2023 y calcular la variación porcentual. A partir del valor de la variación, se deben proporcionar las siguientes sugerencias:\n",
        "\n",
        "Para una variación superior al 20%: bonificación para el equipo de ventas.\n",
        "Para una variación entre el 2% y el 20%: pequeña bonificación para el equipo de ventas.\n",
        "Para una variación entre el 2% y el -10%: planificación de políticas de incentivo a las ventas.\n",
        "Para bonificaciones inferiores al -10%: recorte de gastos."
      ],
      "metadata": {
        "id": "Cd8cjzGBpdD8"
      }
    },
    {
      "cell_type": "code",
      "source": [
        "cantidad_ventas2022 = int(input('Ingresa la cantidad de ventas del año 2022: '))\n",
        "cantidad_ventas2023 = int(input('Ingresa la cantidad de ventas del año 2023: '))\n",
        "\n",
        "variacion_porcentual = ((cantidad_ventas2023 - cantidad_ventas2022)/cantidad_ventas2022) * 100\n",
        "\n",
        "if variacion_porcentual > 20:\n",
        "  print(f'la variación porcentual fue del: {variacion_porcentual}%')\n",
        "  print('Bonificación para el equipo de ventas')\n",
        "\n",
        "elif 2 <= variacion_porcentual <= 20:\n",
        "  print(f'la variación porcentual fue del: {variacion_porcentual}%')\n",
        "  print('Pequeña bonificación para el equipo de ventas')\n",
        "\n",
        "elif -10 <= variacion_porcentual:\n",
        "  print(f'la variación porcentual fue del: {variacion_porcentual}%')\n",
        "  print('Planificación de políticas de incentivo a las ventas')\n",
        "\n",
        "else:\n",
        "  print(f'la variación porcentual fue del: {variacion_porcentual}%')\n",
        "  print('Recorte de gastos')\n",
        "\n",
        "\n",
        "\n"
      ],
      "metadata": {
        "colab": {
          "base_uri": "https://localhost:8080/"
        },
        "id": "sfH7-gkPpd7F",
        "outputId": "9c4e870a-7692-49e7-931f-4c3d837ab497"
      },
      "execution_count": null,
      "outputs": [
        {
          "output_type": "stream",
          "name": "stdout",
          "text": [
            "Ingresa la cantidad de ventas del año 20226\n",
            "Ingresa la cantidad de ventas del año 202312\n",
            "la variación porcentual fue del: 100.0%\n",
            "Bonificación para el equipo de ventas\n"
          ]
        }
      ]
    },
    {
      "cell_type": "markdown",
      "source": [
        "# **Desafío 4**\n",
        "\n",
        "\n",
        "###**Entrenando la programación**\n",
        "\n",
        "\n",
        "\n",
        "1 - Escribe un programa que solicite dos números enteros e imprima todos los números enteros entre ellos."
      ],
      "metadata": {
        "id": "Cq6yEC1zx6hG"
      }
    },
    {
      "cell_type": "code",
      "source": [
        "num_entero1 = input('Ingrase un número entero: ')\n",
        "num_entero2 = input('Ingrase otro número entero: ')\n",
        "\n",
        "for c in num_entero1:\n",
        "  print(c)\n",
        "\n",
        "print('*****************')\n",
        "\n",
        "for c in num_entero2:\n",
        "  print(c)\n"
      ],
      "metadata": {
        "colab": {
          "base_uri": "https://localhost:8080/"
        },
        "id": "-2QKQkmpyFL9",
        "outputId": "8abaa92e-7b3e-48ac-8dcc-171993cca309"
      },
      "execution_count": null,
      "outputs": [
        {
          "output_type": "stream",
          "name": "stdout",
          "text": [
            "Ingrase un número entero: 123\n",
            "Ingrase otro número entero: 78596\n",
            "1\n",
            "2\n",
            "3\n",
            "*****************\n",
            "7\n",
            "8\n",
            "5\n",
            "9\n",
            "6\n"
          ]
        }
      ]
    },
    {
      "cell_type": "markdown",
      "source": [
        "2 - Escribe un programa para calcular cuántos días tomará que la colonia de una bacteria A supere o iguale a la colonia de una bacteria B, basado en tasas de crecimiento del 3% y 1.5%, respectivamente. Supón que la colonia A comienza con 4 elementos y B con 10."
      ],
      "metadata": {
        "id": "MV5c9Rg2y7TK"
      }
    },
    {
      "cell_type": "code",
      "source": [
        "coloniaA = 4\n",
        "coloniaB = 10\n",
        "\n",
        "dias = 1\n",
        "\n",
        "while coloniaA < coloniaB:\n",
        "  coloniaA = coloniaA + (coloniaA * 0.03)\n",
        "  coloniaB = coloniaB + (coloniaB * 0.015)\n",
        "  dias += 1\n",
        "\n",
        "print(f'Día en que la Colonia A supera o iguala a la Colonia B: {dias} días')\n",
        "print(f'Colonia A: {coloniaA:.2f} unidades')\n",
        "print(f'Colonia B: {coloniaB:.2f} unidades')"
      ],
      "metadata": {
        "colab": {
          "base_uri": "https://localhost:8080/"
        },
        "id": "96R6OI99y-C8",
        "outputId": "796c4373-ae90-43d6-f769-7292eb854c11"
      },
      "execution_count": null,
      "outputs": [
        {
          "output_type": "stream",
          "name": "stdout",
          "text": [
            "Día en que la Colonia A supera o iguala a la Colonia B: 64 días\n",
            "Colonia A: 25.75 unidades\n",
            "Colonia B: 25.55 unidades\n"
          ]
        }
      ]
    },
    {
      "cell_type": "markdown",
      "source": [
        "3 - Para procesar una cantidad de 15 datos de evaluaciones de usuarios de un servicio de la empresa, necesitamos verificar si las calificaciones son válidas. Por lo tanto, escribe un programa que recibirá calificaciones del 0 al 5 y verificará si son valores válidos. Si se ingresa una calificación superior a 5 o inferior a 0, se repetirá hasta que el usuario ingrese un valor válido."
      ],
      "metadata": {
        "id": "JjM2xEaa9jWW"
      }
    },
    {
      "cell_type": "code",
      "source": [
        "calificaciones = []\n",
        "contador = 1\n",
        "\n",
        "while contador <= 15:\n",
        "\n",
        "  calificacion = float(input(f'Ingresa la calificación # {contador}: ,valores válidos entre 0 a 5. '))\n",
        "\n",
        "  if 0 <= calificacion <= 5:\n",
        "    calificaciones.append(calificacion)\n",
        "    #print(calificaciones)\n",
        "    contador += 1\n",
        "\n",
        "  else:\n",
        "    print('Ingresa un valor válido entre 0 a 5.')\n",
        "\n",
        "\n",
        "print('\\n✅ Lista de calificaciones ingresadas:')\n",
        "print(calificaciones)\n",
        "\n"
      ],
      "metadata": {
        "colab": {
          "base_uri": "https://localhost:8080/"
        },
        "id": "jLs2Ewvu9uue",
        "outputId": "f1aae54c-5e38-4dd7-cb81-d3e6f2b15307"
      },
      "execution_count": null,
      "outputs": [
        {
          "output_type": "stream",
          "name": "stdout",
          "text": [
            "Ingresa la calificación # 1: ,valores válidos entre 0 a 5. 5\n",
            "Ingresa la calificación # 2: ,valores válidos entre 0 a 5. 3\n",
            "Ingresa la calificación # 3: ,valores válidos entre 0 a 5. 1\n",
            "Ingresa la calificación # 4: ,valores válidos entre 0 a 5. 2\n",
            "Ingresa la calificación # 5: ,valores válidos entre 0 a 5. 3\n",
            "Ingresa la calificación # 6: ,valores válidos entre 0 a 5. 4\n",
            "Ingresa la calificación # 7: ,valores válidos entre 0 a 5. 5\n",
            "Ingresa la calificación # 8: ,valores válidos entre 0 a 5. 3.3\n",
            "Ingresa la calificación # 9: ,valores válidos entre 0 a 5. 2.3\n",
            "Ingresa la calificación # 10: ,valores válidos entre 0 a 5. 1.2\n",
            "Ingresa la calificación # 11: ,valores válidos entre 0 a 5. 0.2\n",
            "Ingresa la calificación # 12: ,valores válidos entre 0 a 5. 5\n",
            "Ingresa la calificación # 13: ,valores válidos entre 0 a 5. 5\n",
            "Ingresa la calificación # 14: ,valores válidos entre 0 a 5. 4.9\n",
            "Ingresa la calificación # 15: ,valores válidos entre 0 a 5. 4\n",
            "\n",
            "✅ Lista de calificaciones ingresadas:\n",
            "[5.0, 3.0, 1.0, 2.0, 3.0, 4.0, 5.0, 3.3, 2.3, 1.2, 0.2, 5.0, 5.0, 4.9, 4.0]\n",
            "\n",
            "✅ Lista de calificaciones ingresadas:\n",
            "[5.0, 3.0, 1.0, 2.0, 3.0, 4.0, 5.0, 3.3, 2.3, 1.2, 0.2, 5.0, 5.0, 4.9, 4.0]\n",
            "\n",
            "✅ Lista de calificaciones ingresadas:\n",
            "[5.0, 3.0, 1.0, 2.0, 3.0, 4.0, 5.0, 3.3, 2.3, 1.2, 0.2, 5.0, 5.0, 4.9, 4.0]\n",
            "\n",
            "✅ Lista de calificaciones ingresadas:\n",
            "[5.0, 3.0, 1.0, 2.0, 3.0, 4.0, 5.0, 3.3, 2.3, 1.2, 0.2, 5.0, 5.0, 4.9, 4.0]\n",
            "\n",
            "✅ Lista de calificaciones ingresadas:\n",
            "[5.0, 3.0, 1.0, 2.0, 3.0, 4.0, 5.0, 3.3, 2.3, 1.2, 0.2, 5.0, 5.0, 4.9, 4.0]\n",
            "\n",
            "✅ Lista de calificaciones ingresadas:\n",
            "[5.0, 3.0, 1.0, 2.0, 3.0, 4.0, 5.0, 3.3, 2.3, 1.2, 0.2, 5.0, 5.0, 4.9, 4.0]\n",
            "\n",
            "✅ Lista de calificaciones ingresadas:\n",
            "[5.0, 3.0, 1.0, 2.0, 3.0, 4.0, 5.0, 3.3, 2.3, 1.2, 0.2, 5.0, 5.0, 4.9, 4.0]\n",
            "\n",
            "✅ Lista de calificaciones ingresadas:\n",
            "[5.0, 3.0, 1.0, 2.0, 3.0, 4.0, 5.0, 3.3, 2.3, 1.2, 0.2, 5.0, 5.0, 4.9, 4.0]\n",
            "\n",
            "✅ Lista de calificaciones ingresadas:\n",
            "[5.0, 3.0, 1.0, 2.0, 3.0, 4.0, 5.0, 3.3, 2.3, 1.2, 0.2, 5.0, 5.0, 4.9, 4.0]\n",
            "\n",
            "✅ Lista de calificaciones ingresadas:\n",
            "[5.0, 3.0, 1.0, 2.0, 3.0, 4.0, 5.0, 3.3, 2.3, 1.2, 0.2, 5.0, 5.0, 4.9, 4.0]\n",
            "\n",
            "✅ Lista de calificaciones ingresadas:\n",
            "[5.0, 3.0, 1.0, 2.0, 3.0, 4.0, 5.0, 3.3, 2.3, 1.2, 0.2, 5.0, 5.0, 4.9, 4.0]\n",
            "\n",
            "✅ Lista de calificaciones ingresadas:\n",
            "[5.0, 3.0, 1.0, 2.0, 3.0, 4.0, 5.0, 3.3, 2.3, 1.2, 0.2, 5.0, 5.0, 4.9, 4.0]\n",
            "\n",
            "✅ Lista de calificaciones ingresadas:\n",
            "[5.0, 3.0, 1.0, 2.0, 3.0, 4.0, 5.0, 3.3, 2.3, 1.2, 0.2, 5.0, 5.0, 4.9, 4.0]\n",
            "\n",
            "✅ Lista de calificaciones ingresadas:\n",
            "[5.0, 3.0, 1.0, 2.0, 3.0, 4.0, 5.0, 3.3, 2.3, 1.2, 0.2, 5.0, 5.0, 4.9, 4.0]\n",
            "\n",
            "✅ Lista de calificaciones ingresadas:\n",
            "[5.0, 3.0, 1.0, 2.0, 3.0, 4.0, 5.0, 3.3, 2.3, 1.2, 0.2, 5.0, 5.0, 4.9, 4.0]\n"
          ]
        }
      ]
    },
    {
      "cell_type": "markdown",
      "source": [
        "4 - Desarrolla un programa que lea un conjunto indefinido de temperaturas en grados Celsius y calcule su promedio. La lectura debe detenerse al ingresar el valor -273°C."
      ],
      "metadata": {
        "id": "9US1a1RReTFI"
      }
    },
    {
      "cell_type": "code",
      "source": [
        "temperaturas = []\n",
        "\n",
        "while True:\n",
        "\n",
        "  temperatura = float(input('Ingresa la temperatura en °C: '))\n",
        "\n",
        "  if temperatura != (-273):\n",
        "    temperaturas.append(temperatura)\n",
        "    promedio_temperaturas = sum(temperaturas)/len(temperaturas)\n",
        "    print(f'El promedio de las temperaturas es de {promedio_temperaturas:.2f} °C')\n",
        "\n",
        "  else:\n",
        "    break\n",
        "\n",
        ""
      ],
      "metadata": {
        "colab": {
          "base_uri": "https://localhost:8080/"
        },
        "id": "J4Z6L7L2eT1w",
        "outputId": "ea01a49f-9f45-4d20-b2ce-01a19413fa16"
      },
      "execution_count": 5,
      "outputs": [
        {
          "name": "stdout",
          "output_type": "stream",
          "text": [
            "Ingresa la temperatura en °C: 4\n",
            "El promedio de las temperaturas es de 4.00 °C\n",
            "Ingresa la temperatura en °C: 89\n",
            "El promedio de las temperaturas es de 46.50 °C\n",
            "Ingresa la temperatura en °C: 32\n",
            "El promedio de las temperaturas es de 41.67 °C\n",
            "Ingresa la temperatura en °C: -456\n",
            "El promedio de las temperaturas es de -82.75 °C\n",
            "Ingresa la temperatura en °C: -273\n"
          ]
        }
      ]
    },
    {
      "cell_type": "markdown",
      "source": [
        "5 - Escribe un programa que calcule el factorial de un número entero proporcionado por el usuario. Recuerda que el factorial de un número entero es el producto de ese número por todos sus antecesores hasta llegar al número 1. Por ejemplo, el factorial de 5 es 5 x 4 x 3 x 2 x 1 = 120."
      ],
      "metadata": {
        "id": "vYqY-4KUh-cL"
      }
    },
    {
      "cell_type": "code",
      "source": [
        "num_factorial = int(input('Ingresa un número entero: '))\n",
        "producto = num_factorial\n",
        "\n",
        "for n in range((num_factorial - 1 ),0,-1):\n",
        "  producto *= n\n",
        "\n",
        "print(f'El factorial del número entero {num_factorial} es {producto}.')\n"
      ],
      "metadata": {
        "colab": {
          "base_uri": "https://localhost:8080/"
        },
        "id": "rLKyxO3GiEIv",
        "outputId": "171bcdcd-9543-4b0d-bf01-956a0233dc90"
      },
      "execution_count": 9,
      "outputs": [
        {
          "output_type": "stream",
          "name": "stdout",
          "text": [
            "Ingresa un número entero: 5\n",
            "El factorial del número entero 5 es 120.\n"
          ]
        }
      ]
    },
    {
      "cell_type": "markdown",
      "source": [
        "###**Momento de los proyectos**\n",
        "\n",
        "\n",
        "6 - Escribe un programa que genere la tabla de multiplicar de un número entero del 1 al 10, según la elección del usuario. Como ejemplo, para el número 2, la tabla de multiplicar debe mostrarse en el siguiente formato:"
      ],
      "metadata": {
        "id": "rOezphV-leK1"
      }
    },
    {
      "cell_type": "code",
      "source": [
        "numero_entero = int(input('Ingresa un número entre 1 a 10: '))\n",
        "\n",
        "for a in range(1,11,1):\n",
        "  producto = numero_entero * a\n",
        "  print(f'{numero_entero} x {a} = {producto}')"
      ],
      "metadata": {
        "colab": {
          "base_uri": "https://localhost:8080/"
        },
        "id": "vFBk-KqcltTw",
        "outputId": "4b8bcd76-e69e-4952-83e1-3035293074a7"
      },
      "execution_count": 14,
      "outputs": [
        {
          "output_type": "stream",
          "name": "stdout",
          "text": [
            "Ingresa un número entre 1 a 10: 8\n",
            "8 x 1 = 8\n",
            "8 x 2 = 16\n",
            "8 x 3 = 24\n",
            "8 x 4 = 32\n",
            "8 x 5 = 40\n",
            "8 x 6 = 48\n",
            "8 x 7 = 56\n",
            "8 x 8 = 64\n",
            "8 x 9 = 72\n",
            "8 x 10 = 80\n"
          ]
        }
      ]
    },
    {
      "cell_type": "markdown",
      "source": [
        "7 - Los números primos tienen diversas aplicaciones en Ciencia de Datos, como en criptografía y seguridad. Un número primo es aquel que es divisible solo por sí mismo y por 1. Por lo tanto, crea un programa que solicite un número entero y determine si es un número primo o no."
      ],
      "metadata": {
        "id": "kYRcwbc7m8wM"
      }
    },
    {
      "cell_type": "code",
      "source": [
        "num_verificar = int(input('Ingresa tu número: '))\n",
        "\n",
        "if num_verificar < 2:\n",
        "    print(f'El {num_verificar} no es un número primo.')\n",
        "\n",
        "else:\n",
        "    es_primo = True\n",
        "\n",
        "    for nv in range(2, int(num_verificar ** 0.5) + 1):\n",
        "        if num_verificar % nv == 0:\n",
        "            es_primo = False\n",
        "            break\n",
        "\n",
        "    if es_primo:\n",
        "        print(f'El {num_verificar} es un número primo.')\n",
        "    else:\n",
        "        print(f'El {num_verificar} no es un número primo.')"
      ],
      "metadata": {
        "colab": {
          "base_uri": "https://localhost:8080/"
        },
        "id": "tBWti3QWnFoY",
        "outputId": "fee22a9f-16f0-4fd4-ddb2-70e3963e9fb8"
      },
      "execution_count": 28,
      "outputs": [
        {
          "output_type": "stream",
          "name": "stdout",
          "text": [
            "Ingresa tu número: 17\n",
            "El 17 es un número primo.\n"
          ]
        }
      ]
    }
  ]
}